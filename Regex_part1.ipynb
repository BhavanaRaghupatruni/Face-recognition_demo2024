{
  "nbformat": 4,
  "nbformat_minor": 0,
  "metadata": {
    "colab": {
      "private_outputs": true,
      "provenance": [],
      "authorship_tag": "ABX9TyO34IdKOtvtW2xJ+o54NugI",
      "include_colab_link": true
    },
    "kernelspec": {
      "name": "python3",
      "display_name": "Python 3"
    },
    "language_info": {
      "name": "python"
    }
  },
  "cells": [
    {
      "cell_type": "markdown",
      "metadata": {
        "id": "view-in-github",
        "colab_type": "text"
      },
      "source": [
        "<a href=\"https://colab.research.google.com/github/BhavanaRaghupatruni/Face-recognition_demo2024/blob/main/Regex_part1.ipynb\" target=\"_parent\"><img src=\"https://colab.research.google.com/assets/colab-badge.svg\" alt=\"Open In Colab\"/></a>"
      ]
    },
    {
      "cell_type": "code",
      "execution_count": null,
      "metadata": {
        "id": "cZZmtkY1UHpz"
      },
      "outputs": [],
      "source": [
        "!pip install re"
      ]
    },
    {
      "cell_type": "code",
      "source": [
        "#sub\n",
        "import re\n",
        "txt=\"You a using Java language as your tech stack!!\"\n",
        "match=re.sub(\"Java\",\"Python\",txt)\n",
        "print(match)"
      ],
      "metadata": {
        "id": "MbkR267V2HUI"
      },
      "execution_count": null,
      "outputs": []
    },
    {
      "cell_type": "code",
      "source": [
        "#findall\n",
        "import re\n",
        "txt=\"You a using Java language as your tech stack and java is  said to be object oriented programming language!!\"\n",
        "match=re.findall(\"Java\",txt)\n",
        "print(match)\n"
      ],
      "metadata": {
        "id": "--DbAlHt2HeH"
      },
      "execution_count": null,
      "outputs": []
    },
    {
      "cell_type": "code",
      "source": [
        "#search\n",
        "import re\n",
        "txt=\"You a using Java language as your tech stack!!\"\n",
        "match=re.search(\"Java\",txt)\n",
        "print(match.start())"
      ],
      "metadata": {
        "id": "cTPsGgDu2Hhl"
      },
      "execution_count": null,
      "outputs": []
    },
    {
      "cell_type": "code",
      "source": [
        "#re.split\n",
        "import re\n",
        "txt=\"You a using Java language as your tech stack so 123456Hello look at this rythm 2025!!\"\n",
        "match=re.split(\"\\d+\",txt)\n",
        "print(match)"
      ],
      "metadata": {
        "id": "mht-aM8f3NPi"
      },
      "execution_count": null,
      "outputs": []
    },
    {
      "cell_type": "code",
      "source": [
        "import re\n",
        "text=\"Hello text\"\n",
        "match=re.findall(\"he..o\",txt)\n",
        "print(match)"
      ],
      "metadata": {
        "id": "Z3bPbPvN4f6p"
      },
      "execution_count": null,
      "outputs": []
    },
    {
      "cell_type": "code",
      "source": [
        "import re\n",
        "\n",
        "txt = \"hello planet\"\n",
        "\n",
        "#Check if the string starts with 'hello':\n",
        "\n",
        "x = re.findall(\"^hello\", txt)\n",
        "if x:\n",
        "  print(\"Yes, the string starts with 'hello'\")\n",
        "else:\n",
        "  print(\"No match\")\n"
      ],
      "metadata": {
        "id": "-qKwCbay4f9L"
      },
      "execution_count": null,
      "outputs": []
    },
    {
      "cell_type": "code",
      "source": [
        "import re\n",
        "\n",
        "txt = \"hello planet\"\n",
        "\n",
        "#Check if the string starts with 'hello':\n",
        "\n",
        "x = re.findall(\"planet$\", txt)\n",
        "if x:\n",
        "  print(\"Yes, the string starts with 'planet'\")\n",
        "else:\n",
        "  print(\"No match\")"
      ],
      "metadata": {
        "id": "RG8vUOv94gB7"
      },
      "execution_count": null,
      "outputs": []
    },
    {
      "cell_type": "code",
      "source": [
        "import re\n",
        "\n",
        "txt = \"hello planet\"\n",
        "\n",
        "#Check if the string starts with 'hello':\n",
        "\n",
        "x = re.findall(\"he.*o\", txt)\n",
        "print(x)"
      ],
      "metadata": {
        "id": "Bm2IYvUMAwbv"
      },
      "execution_count": null,
      "outputs": []
    },
    {
      "cell_type": "code",
      "source": [
        "import re\n",
        "\n",
        "txt = \"hello planet\"\n",
        "\n",
        "#Check if the string starts with 'hello':\n",
        "\n",
        "x = re.findall(\"he.+o\", txt)\n",
        "if x:\n",
        "  print(\"Yes, the string starts with 'hello'\")\n",
        "else:\n",
        "  print(\"No match\")"
      ],
      "metadata": {
        "id": "Ls8159Z6BUJm"
      },
      "execution_count": null,
      "outputs": []
    }
  ]
}